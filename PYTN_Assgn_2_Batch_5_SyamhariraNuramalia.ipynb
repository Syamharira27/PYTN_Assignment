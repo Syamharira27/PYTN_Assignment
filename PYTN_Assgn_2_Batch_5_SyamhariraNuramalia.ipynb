{
  "nbformat": 4,
  "nbformat_minor": 0,
  "metadata": {
    "colab": {
      "provenance": []
    },
    "kernelspec": {
      "name": "python3",
      "display_name": "Python 3"
    },
    "language_info": {
      "name": "python"
    }
  },
  "cells": [
    {
      "cell_type": "markdown",
      "source": [
        "# Import Library"
      ],
      "metadata": {
        "id": "f0A5YWvkNbvq"
      }
    },
    {
      "cell_type": "code",
      "source": [],
      "metadata": {
        "id": "X7Sj8RAHoGsP"
      },
      "execution_count": null,
      "outputs": []
    },
    {
      "cell_type": "code",
      "execution_count": 82,
      "metadata": {
        "id": "6avFl0_zJF7s"
      },
      "outputs": [],
      "source": [
        "import math\n",
        "import statistics\n",
        "import numpy as np\n",
        "import scipy.stats\n",
        "import pandas as pd\n",
        "from scipy.stats import f_oneway\n",
        "from scipy.stats import ttest_ind"
      ]
    },
    {
      "cell_type": "markdown",
      "source": [
        "# Preprocessing"
      ],
      "metadata": {
        "id": "e_3Voyo0NsQ8"
      }
    },
    {
      "cell_type": "code",
      "source": [
        "data = pd.read_csv(\"nyc-rolling-sales.csv\")\n",
        "data"
      ],
      "metadata": {
        "colab": {
          "base_uri": "https://localhost:8080/",
          "height": 894
        },
        "id": "TYHLqXhyLxw5",
        "outputId": "fc49ac7d-9323-43f1-abe5-e5db92287718"
      },
      "execution_count": null,
      "outputs": [
        {
          "output_type": "execute_result",
          "data": {
            "text/plain": [
              "       Unnamed: 0  BOROUGH   NEIGHBORHOOD  \\\n",
              "0               4        1  ALPHABET CITY   \n",
              "1               5        1  ALPHABET CITY   \n",
              "2               6        1  ALPHABET CITY   \n",
              "3               7        1  ALPHABET CITY   \n",
              "4               8        1  ALPHABET CITY   \n",
              "...           ...      ...            ...   \n",
              "84543        8409        5        WOODROW   \n",
              "84544        8410        5        WOODROW   \n",
              "84545        8411        5        WOODROW   \n",
              "84546        8412        5        WOODROW   \n",
              "84547        8413        5        WOODROW   \n",
              "\n",
              "                           BUILDING CLASS CATEGORY TAX CLASS AT PRESENT  \\\n",
              "0      07 RENTALS - WALKUP APARTMENTS                                2A   \n",
              "1      07 RENTALS - WALKUP APARTMENTS                                 2   \n",
              "2      07 RENTALS - WALKUP APARTMENTS                                 2   \n",
              "3      07 RENTALS - WALKUP APARTMENTS                                2B   \n",
              "4      07 RENTALS - WALKUP APARTMENTS                                2A   \n",
              "...                                            ...                  ...   \n",
              "84543  02 TWO FAMILY DWELLINGS                                        1   \n",
              "84544  02 TWO FAMILY DWELLINGS                                        1   \n",
              "84545  02 TWO FAMILY DWELLINGS                                        1   \n",
              "84546  22 STORE BUILDINGS                                             4   \n",
              "84547  35 INDOOR PUBLIC AND CULTURAL FACILITIES                       4   \n",
              "\n",
              "       BLOCK  LOT EASE-MENT BUILDING CLASS AT PRESENT                 ADDRESS  \\\n",
              "0        392    6                                  C2            153 AVENUE B   \n",
              "1        399   26                                  C7   234 EAST 4TH   STREET   \n",
              "2        399   39                                  C7   197 EAST 3RD   STREET   \n",
              "3        402   21                                  C4     154 EAST 7TH STREET   \n",
              "4        404   55                                  C2  301 EAST 10TH   STREET   \n",
              "...      ...  ...       ...                       ...                     ...   \n",
              "84543   7349   34                                  B9           37 QUAIL LANE   \n",
              "84544   7349   78                                  B9        32 PHEASANT LANE   \n",
              "84545   7351   60                                  B2        49 PITNEY AVENUE   \n",
              "84546   7100   28                                  K6   2730 ARTHUR KILL ROAD   \n",
              "84547   7105  679                                  P9       155 CLAY PIT ROAD   \n",
              "\n",
              "       ... RESIDENTIAL UNITS  COMMERCIAL UNITS  TOTAL UNITS  LAND SQUARE FEET  \\\n",
              "0      ...                 5                 0            5              1633   \n",
              "1      ...                28                 3           31              4616   \n",
              "2      ...                16                 1           17              2212   \n",
              "3      ...                10                 0           10              2272   \n",
              "4      ...                 6                 0            6              2369   \n",
              "...    ...               ...               ...          ...               ...   \n",
              "84543  ...                 2                 0            2              2400   \n",
              "84544  ...                 2                 0            2              2498   \n",
              "84545  ...                 2                 0            2              4000   \n",
              "84546  ...                 0                 7            7            208033   \n",
              "84547  ...                 0                 1            1             10796   \n",
              "\n",
              "       GROSS SQUARE FEET YEAR BUILT TAX CLASS AT TIME OF SALE  \\\n",
              "0                   6440       1900                         2   \n",
              "1                  18690       1900                         2   \n",
              "2                   7803       1900                         2   \n",
              "3                   6794       1913                         2   \n",
              "4                   4615       1900                         2   \n",
              "...                  ...        ...                       ...   \n",
              "84543               2575       1998                         1   \n",
              "84544               2377       1998                         1   \n",
              "84545               1496       1925                         1   \n",
              "84546              64117       2001                         4   \n",
              "84547               2400       2006                         4   \n",
              "\n",
              "       BUILDING CLASS AT TIME OF SALE  SALE PRICE            SALE DATE  \n",
              "0                                  C2     6625000  2017-07-19 00:00:00  \n",
              "1                                  C7         -    2016-12-14 00:00:00  \n",
              "2                                  C7         -    2016-12-09 00:00:00  \n",
              "3                                  C4     3936272  2016-09-23 00:00:00  \n",
              "4                                  C2     8000000  2016-11-17 00:00:00  \n",
              "...                               ...         ...                  ...  \n",
              "84543                              B9      450000  2016-11-28 00:00:00  \n",
              "84544                              B9      550000  2017-04-21 00:00:00  \n",
              "84545                              B2      460000  2017-07-05 00:00:00  \n",
              "84546                              K6    11693337  2016-12-21 00:00:00  \n",
              "84547                              P9       69300  2016-10-27 00:00:00  \n",
              "\n",
              "[84548 rows x 22 columns]"
            ],
            "text/html": [
              "\n",
              "  <div id=\"df-1f2462d7-9ad7-4984-96ab-0aaf7e409995\" class=\"colab-df-container\">\n",
              "    <div>\n",
              "<style scoped>\n",
              "    .dataframe tbody tr th:only-of-type {\n",
              "        vertical-align: middle;\n",
              "    }\n",
              "\n",
              "    .dataframe tbody tr th {\n",
              "        vertical-align: top;\n",
              "    }\n",
              "\n",
              "    .dataframe thead th {\n",
              "        text-align: right;\n",
              "    }\n",
              "</style>\n",
              "<table border=\"1\" class=\"dataframe\">\n",
              "  <thead>\n",
              "    <tr style=\"text-align: right;\">\n",
              "      <th></th>\n",
              "      <th>Unnamed: 0</th>\n",
              "      <th>BOROUGH</th>\n",
              "      <th>NEIGHBORHOOD</th>\n",
              "      <th>BUILDING CLASS CATEGORY</th>\n",
              "      <th>TAX CLASS AT PRESENT</th>\n",
              "      <th>BLOCK</th>\n",
              "      <th>LOT</th>\n",
              "      <th>EASE-MENT</th>\n",
              "      <th>BUILDING CLASS AT PRESENT</th>\n",
              "      <th>ADDRESS</th>\n",
              "      <th>...</th>\n",
              "      <th>RESIDENTIAL UNITS</th>\n",
              "      <th>COMMERCIAL UNITS</th>\n",
              "      <th>TOTAL UNITS</th>\n",
              "      <th>LAND SQUARE FEET</th>\n",
              "      <th>GROSS SQUARE FEET</th>\n",
              "      <th>YEAR BUILT</th>\n",
              "      <th>TAX CLASS AT TIME OF SALE</th>\n",
              "      <th>BUILDING CLASS AT TIME OF SALE</th>\n",
              "      <th>SALE PRICE</th>\n",
              "      <th>SALE DATE</th>\n",
              "    </tr>\n",
              "  </thead>\n",
              "  <tbody>\n",
              "    <tr>\n",
              "      <th>0</th>\n",
              "      <td>4</td>\n",
              "      <td>1</td>\n",
              "      <td>ALPHABET CITY</td>\n",
              "      <td>07 RENTALS - WALKUP APARTMENTS</td>\n",
              "      <td>2A</td>\n",
              "      <td>392</td>\n",
              "      <td>6</td>\n",
              "      <td></td>\n",
              "      <td>C2</td>\n",
              "      <td>153 AVENUE B</td>\n",
              "      <td>...</td>\n",
              "      <td>5</td>\n",
              "      <td>0</td>\n",
              "      <td>5</td>\n",
              "      <td>1633</td>\n",
              "      <td>6440</td>\n",
              "      <td>1900</td>\n",
              "      <td>2</td>\n",
              "      <td>C2</td>\n",
              "      <td>6625000</td>\n",
              "      <td>2017-07-19 00:00:00</td>\n",
              "    </tr>\n",
              "    <tr>\n",
              "      <th>1</th>\n",
              "      <td>5</td>\n",
              "      <td>1</td>\n",
              "      <td>ALPHABET CITY</td>\n",
              "      <td>07 RENTALS - WALKUP APARTMENTS</td>\n",
              "      <td>2</td>\n",
              "      <td>399</td>\n",
              "      <td>26</td>\n",
              "      <td></td>\n",
              "      <td>C7</td>\n",
              "      <td>234 EAST 4TH   STREET</td>\n",
              "      <td>...</td>\n",
              "      <td>28</td>\n",
              "      <td>3</td>\n",
              "      <td>31</td>\n",
              "      <td>4616</td>\n",
              "      <td>18690</td>\n",
              "      <td>1900</td>\n",
              "      <td>2</td>\n",
              "      <td>C7</td>\n",
              "      <td>-</td>\n",
              "      <td>2016-12-14 00:00:00</td>\n",
              "    </tr>\n",
              "    <tr>\n",
              "      <th>2</th>\n",
              "      <td>6</td>\n",
              "      <td>1</td>\n",
              "      <td>ALPHABET CITY</td>\n",
              "      <td>07 RENTALS - WALKUP APARTMENTS</td>\n",
              "      <td>2</td>\n",
              "      <td>399</td>\n",
              "      <td>39</td>\n",
              "      <td></td>\n",
              "      <td>C7</td>\n",
              "      <td>197 EAST 3RD   STREET</td>\n",
              "      <td>...</td>\n",
              "      <td>16</td>\n",
              "      <td>1</td>\n",
              "      <td>17</td>\n",
              "      <td>2212</td>\n",
              "      <td>7803</td>\n",
              "      <td>1900</td>\n",
              "      <td>2</td>\n",
              "      <td>C7</td>\n",
              "      <td>-</td>\n",
              "      <td>2016-12-09 00:00:00</td>\n",
              "    </tr>\n",
              "    <tr>\n",
              "      <th>3</th>\n",
              "      <td>7</td>\n",
              "      <td>1</td>\n",
              "      <td>ALPHABET CITY</td>\n",
              "      <td>07 RENTALS - WALKUP APARTMENTS</td>\n",
              "      <td>2B</td>\n",
              "      <td>402</td>\n",
              "      <td>21</td>\n",
              "      <td></td>\n",
              "      <td>C4</td>\n",
              "      <td>154 EAST 7TH STREET</td>\n",
              "      <td>...</td>\n",
              "      <td>10</td>\n",
              "      <td>0</td>\n",
              "      <td>10</td>\n",
              "      <td>2272</td>\n",
              "      <td>6794</td>\n",
              "      <td>1913</td>\n",
              "      <td>2</td>\n",
              "      <td>C4</td>\n",
              "      <td>3936272</td>\n",
              "      <td>2016-09-23 00:00:00</td>\n",
              "    </tr>\n",
              "    <tr>\n",
              "      <th>4</th>\n",
              "      <td>8</td>\n",
              "      <td>1</td>\n",
              "      <td>ALPHABET CITY</td>\n",
              "      <td>07 RENTALS - WALKUP APARTMENTS</td>\n",
              "      <td>2A</td>\n",
              "      <td>404</td>\n",
              "      <td>55</td>\n",
              "      <td></td>\n",
              "      <td>C2</td>\n",
              "      <td>301 EAST 10TH   STREET</td>\n",
              "      <td>...</td>\n",
              "      <td>6</td>\n",
              "      <td>0</td>\n",
              "      <td>6</td>\n",
              "      <td>2369</td>\n",
              "      <td>4615</td>\n",
              "      <td>1900</td>\n",
              "      <td>2</td>\n",
              "      <td>C2</td>\n",
              "      <td>8000000</td>\n",
              "      <td>2016-11-17 00:00:00</td>\n",
              "    </tr>\n",
              "    <tr>\n",
              "      <th>...</th>\n",
              "      <td>...</td>\n",
              "      <td>...</td>\n",
              "      <td>...</td>\n",
              "      <td>...</td>\n",
              "      <td>...</td>\n",
              "      <td>...</td>\n",
              "      <td>...</td>\n",
              "      <td>...</td>\n",
              "      <td>...</td>\n",
              "      <td>...</td>\n",
              "      <td>...</td>\n",
              "      <td>...</td>\n",
              "      <td>...</td>\n",
              "      <td>...</td>\n",
              "      <td>...</td>\n",
              "      <td>...</td>\n",
              "      <td>...</td>\n",
              "      <td>...</td>\n",
              "      <td>...</td>\n",
              "      <td>...</td>\n",
              "      <td>...</td>\n",
              "    </tr>\n",
              "    <tr>\n",
              "      <th>84543</th>\n",
              "      <td>8409</td>\n",
              "      <td>5</td>\n",
              "      <td>WOODROW</td>\n",
              "      <td>02 TWO FAMILY DWELLINGS</td>\n",
              "      <td>1</td>\n",
              "      <td>7349</td>\n",
              "      <td>34</td>\n",
              "      <td></td>\n",
              "      <td>B9</td>\n",
              "      <td>37 QUAIL LANE</td>\n",
              "      <td>...</td>\n",
              "      <td>2</td>\n",
              "      <td>0</td>\n",
              "      <td>2</td>\n",
              "      <td>2400</td>\n",
              "      <td>2575</td>\n",
              "      <td>1998</td>\n",
              "      <td>1</td>\n",
              "      <td>B9</td>\n",
              "      <td>450000</td>\n",
              "      <td>2016-11-28 00:00:00</td>\n",
              "    </tr>\n",
              "    <tr>\n",
              "      <th>84544</th>\n",
              "      <td>8410</td>\n",
              "      <td>5</td>\n",
              "      <td>WOODROW</td>\n",
              "      <td>02 TWO FAMILY DWELLINGS</td>\n",
              "      <td>1</td>\n",
              "      <td>7349</td>\n",
              "      <td>78</td>\n",
              "      <td></td>\n",
              "      <td>B9</td>\n",
              "      <td>32 PHEASANT LANE</td>\n",
              "      <td>...</td>\n",
              "      <td>2</td>\n",
              "      <td>0</td>\n",
              "      <td>2</td>\n",
              "      <td>2498</td>\n",
              "      <td>2377</td>\n",
              "      <td>1998</td>\n",
              "      <td>1</td>\n",
              "      <td>B9</td>\n",
              "      <td>550000</td>\n",
              "      <td>2017-04-21 00:00:00</td>\n",
              "    </tr>\n",
              "    <tr>\n",
              "      <th>84545</th>\n",
              "      <td>8411</td>\n",
              "      <td>5</td>\n",
              "      <td>WOODROW</td>\n",
              "      <td>02 TWO FAMILY DWELLINGS</td>\n",
              "      <td>1</td>\n",
              "      <td>7351</td>\n",
              "      <td>60</td>\n",
              "      <td></td>\n",
              "      <td>B2</td>\n",
              "      <td>49 PITNEY AVENUE</td>\n",
              "      <td>...</td>\n",
              "      <td>2</td>\n",
              "      <td>0</td>\n",
              "      <td>2</td>\n",
              "      <td>4000</td>\n",
              "      <td>1496</td>\n",
              "      <td>1925</td>\n",
              "      <td>1</td>\n",
              "      <td>B2</td>\n",
              "      <td>460000</td>\n",
              "      <td>2017-07-05 00:00:00</td>\n",
              "    </tr>\n",
              "    <tr>\n",
              "      <th>84546</th>\n",
              "      <td>8412</td>\n",
              "      <td>5</td>\n",
              "      <td>WOODROW</td>\n",
              "      <td>22 STORE BUILDINGS</td>\n",
              "      <td>4</td>\n",
              "      <td>7100</td>\n",
              "      <td>28</td>\n",
              "      <td></td>\n",
              "      <td>K6</td>\n",
              "      <td>2730 ARTHUR KILL ROAD</td>\n",
              "      <td>...</td>\n",
              "      <td>0</td>\n",
              "      <td>7</td>\n",
              "      <td>7</td>\n",
              "      <td>208033</td>\n",
              "      <td>64117</td>\n",
              "      <td>2001</td>\n",
              "      <td>4</td>\n",
              "      <td>K6</td>\n",
              "      <td>11693337</td>\n",
              "      <td>2016-12-21 00:00:00</td>\n",
              "    </tr>\n",
              "    <tr>\n",
              "      <th>84547</th>\n",
              "      <td>8413</td>\n",
              "      <td>5</td>\n",
              "      <td>WOODROW</td>\n",
              "      <td>35 INDOOR PUBLIC AND CULTURAL FACILITIES</td>\n",
              "      <td>4</td>\n",
              "      <td>7105</td>\n",
              "      <td>679</td>\n",
              "      <td></td>\n",
              "      <td>P9</td>\n",
              "      <td>155 CLAY PIT ROAD</td>\n",
              "      <td>...</td>\n",
              "      <td>0</td>\n",
              "      <td>1</td>\n",
              "      <td>1</td>\n",
              "      <td>10796</td>\n",
              "      <td>2400</td>\n",
              "      <td>2006</td>\n",
              "      <td>4</td>\n",
              "      <td>P9</td>\n",
              "      <td>69300</td>\n",
              "      <td>2016-10-27 00:00:00</td>\n",
              "    </tr>\n",
              "  </tbody>\n",
              "</table>\n",
              "<p>84548 rows × 22 columns</p>\n",
              "</div>\n",
              "    <div class=\"colab-df-buttons\">\n",
              "\n",
              "  <div class=\"colab-df-container\">\n",
              "    <button class=\"colab-df-convert\" onclick=\"convertToInteractive('df-1f2462d7-9ad7-4984-96ab-0aaf7e409995')\"\n",
              "            title=\"Convert this dataframe to an interactive table.\"\n",
              "            style=\"display:none;\">\n",
              "\n",
              "  <svg xmlns=\"http://www.w3.org/2000/svg\" height=\"24px\" viewBox=\"0 -960 960 960\">\n",
              "    <path d=\"M120-120v-720h720v720H120Zm60-500h600v-160H180v160Zm220 220h160v-160H400v160Zm0 220h160v-160H400v160ZM180-400h160v-160H180v160Zm440 0h160v-160H620v160ZM180-180h160v-160H180v160Zm440 0h160v-160H620v160Z\"/>\n",
              "  </svg>\n",
              "    </button>\n",
              "\n",
              "  <style>\n",
              "    .colab-df-container {\n",
              "      display:flex;\n",
              "      gap: 12px;\n",
              "    }\n",
              "\n",
              "    .colab-df-convert {\n",
              "      background-color: #E8F0FE;\n",
              "      border: none;\n",
              "      border-radius: 50%;\n",
              "      cursor: pointer;\n",
              "      display: none;\n",
              "      fill: #1967D2;\n",
              "      height: 32px;\n",
              "      padding: 0 0 0 0;\n",
              "      width: 32px;\n",
              "    }\n",
              "\n",
              "    .colab-df-convert:hover {\n",
              "      background-color: #E2EBFA;\n",
              "      box-shadow: 0px 1px 2px rgba(60, 64, 67, 0.3), 0px 1px 3px 1px rgba(60, 64, 67, 0.15);\n",
              "      fill: #174EA6;\n",
              "    }\n",
              "\n",
              "    .colab-df-buttons div {\n",
              "      margin-bottom: 4px;\n",
              "    }\n",
              "\n",
              "    [theme=dark] .colab-df-convert {\n",
              "      background-color: #3B4455;\n",
              "      fill: #D2E3FC;\n",
              "    }\n",
              "\n",
              "    [theme=dark] .colab-df-convert:hover {\n",
              "      background-color: #434B5C;\n",
              "      box-shadow: 0px 1px 3px 1px rgba(0, 0, 0, 0.15);\n",
              "      filter: drop-shadow(0px 1px 2px rgba(0, 0, 0, 0.3));\n",
              "      fill: #FFFFFF;\n",
              "    }\n",
              "  </style>\n",
              "\n",
              "    <script>\n",
              "      const buttonEl =\n",
              "        document.querySelector('#df-1f2462d7-9ad7-4984-96ab-0aaf7e409995 button.colab-df-convert');\n",
              "      buttonEl.style.display =\n",
              "        google.colab.kernel.accessAllowed ? 'block' : 'none';\n",
              "\n",
              "      async function convertToInteractive(key) {\n",
              "        const element = document.querySelector('#df-1f2462d7-9ad7-4984-96ab-0aaf7e409995');\n",
              "        const dataTable =\n",
              "          await google.colab.kernel.invokeFunction('convertToInteractive',\n",
              "                                                    [key], {});\n",
              "        if (!dataTable) return;\n",
              "\n",
              "        const docLinkHtml = 'Like what you see? Visit the ' +\n",
              "          '<a target=\"_blank\" href=https://colab.research.google.com/notebooks/data_table.ipynb>data table notebook</a>'\n",
              "          + ' to learn more about interactive tables.';\n",
              "        element.innerHTML = '';\n",
              "        dataTable['output_type'] = 'display_data';\n",
              "        await google.colab.output.renderOutput(dataTable, element);\n",
              "        const docLink = document.createElement('div');\n",
              "        docLink.innerHTML = docLinkHtml;\n",
              "        element.appendChild(docLink);\n",
              "      }\n",
              "    </script>\n",
              "  </div>\n",
              "\n",
              "\n",
              "<div id=\"df-c8c02ff3-8dbb-4df6-bc9b-c0558db8cf93\">\n",
              "  <button class=\"colab-df-quickchart\" onclick=\"quickchart('df-c8c02ff3-8dbb-4df6-bc9b-c0558db8cf93')\"\n",
              "            title=\"Suggest charts.\"\n",
              "            style=\"display:none;\">\n",
              "\n",
              "<svg xmlns=\"http://www.w3.org/2000/svg\" height=\"24px\"viewBox=\"0 0 24 24\"\n",
              "     width=\"24px\">\n",
              "    <g>\n",
              "        <path d=\"M19 3H5c-1.1 0-2 .9-2 2v14c0 1.1.9 2 2 2h14c1.1 0 2-.9 2-2V5c0-1.1-.9-2-2-2zM9 17H7v-7h2v7zm4 0h-2V7h2v10zm4 0h-2v-4h2v4z\"/>\n",
              "    </g>\n",
              "</svg>\n",
              "  </button>\n",
              "\n",
              "<style>\n",
              "  .colab-df-quickchart {\n",
              "      --bg-color: #E8F0FE;\n",
              "      --fill-color: #1967D2;\n",
              "      --hover-bg-color: #E2EBFA;\n",
              "      --hover-fill-color: #174EA6;\n",
              "      --disabled-fill-color: #AAA;\n",
              "      --disabled-bg-color: #DDD;\n",
              "  }\n",
              "\n",
              "  [theme=dark] .colab-df-quickchart {\n",
              "      --bg-color: #3B4455;\n",
              "      --fill-color: #D2E3FC;\n",
              "      --hover-bg-color: #434B5C;\n",
              "      --hover-fill-color: #FFFFFF;\n",
              "      --disabled-bg-color: #3B4455;\n",
              "      --disabled-fill-color: #666;\n",
              "  }\n",
              "\n",
              "  .colab-df-quickchart {\n",
              "    background-color: var(--bg-color);\n",
              "    border: none;\n",
              "    border-radius: 50%;\n",
              "    cursor: pointer;\n",
              "    display: none;\n",
              "    fill: var(--fill-color);\n",
              "    height: 32px;\n",
              "    padding: 0;\n",
              "    width: 32px;\n",
              "  }\n",
              "\n",
              "  .colab-df-quickchart:hover {\n",
              "    background-color: var(--hover-bg-color);\n",
              "    box-shadow: 0 1px 2px rgba(60, 64, 67, 0.3), 0 1px 3px 1px rgba(60, 64, 67, 0.15);\n",
              "    fill: var(--button-hover-fill-color);\n",
              "  }\n",
              "\n",
              "  .colab-df-quickchart-complete:disabled,\n",
              "  .colab-df-quickchart-complete:disabled:hover {\n",
              "    background-color: var(--disabled-bg-color);\n",
              "    fill: var(--disabled-fill-color);\n",
              "    box-shadow: none;\n",
              "  }\n",
              "\n",
              "  .colab-df-spinner {\n",
              "    border: 2px solid var(--fill-color);\n",
              "    border-color: transparent;\n",
              "    border-bottom-color: var(--fill-color);\n",
              "    animation:\n",
              "      spin 1s steps(1) infinite;\n",
              "  }\n",
              "\n",
              "  @keyframes spin {\n",
              "    0% {\n",
              "      border-color: transparent;\n",
              "      border-bottom-color: var(--fill-color);\n",
              "      border-left-color: var(--fill-color);\n",
              "    }\n",
              "    20% {\n",
              "      border-color: transparent;\n",
              "      border-left-color: var(--fill-color);\n",
              "      border-top-color: var(--fill-color);\n",
              "    }\n",
              "    30% {\n",
              "      border-color: transparent;\n",
              "      border-left-color: var(--fill-color);\n",
              "      border-top-color: var(--fill-color);\n",
              "      border-right-color: var(--fill-color);\n",
              "    }\n",
              "    40% {\n",
              "      border-color: transparent;\n",
              "      border-right-color: var(--fill-color);\n",
              "      border-top-color: var(--fill-color);\n",
              "    }\n",
              "    60% {\n",
              "      border-color: transparent;\n",
              "      border-right-color: var(--fill-color);\n",
              "    }\n",
              "    80% {\n",
              "      border-color: transparent;\n",
              "      border-right-color: var(--fill-color);\n",
              "      border-bottom-color: var(--fill-color);\n",
              "    }\n",
              "    90% {\n",
              "      border-color: transparent;\n",
              "      border-bottom-color: var(--fill-color);\n",
              "    }\n",
              "  }\n",
              "</style>\n",
              "\n",
              "  <script>\n",
              "    async function quickchart(key) {\n",
              "      const quickchartButtonEl =\n",
              "        document.querySelector('#' + key + ' button');\n",
              "      quickchartButtonEl.disabled = true;  // To prevent multiple clicks.\n",
              "      quickchartButtonEl.classList.add('colab-df-spinner');\n",
              "      try {\n",
              "        const charts = await google.colab.kernel.invokeFunction(\n",
              "            'suggestCharts', [key], {});\n",
              "      } catch (error) {\n",
              "        console.error('Error during call to suggestCharts:', error);\n",
              "      }\n",
              "      quickchartButtonEl.classList.remove('colab-df-spinner');\n",
              "      quickchartButtonEl.classList.add('colab-df-quickchart-complete');\n",
              "    }\n",
              "    (() => {\n",
              "      let quickchartButtonEl =\n",
              "        document.querySelector('#df-c8c02ff3-8dbb-4df6-bc9b-c0558db8cf93 button');\n",
              "      quickchartButtonEl.style.display =\n",
              "        google.colab.kernel.accessAllowed ? 'block' : 'none';\n",
              "    })();\n",
              "  </script>\n",
              "</div>\n",
              "    </div>\n",
              "  </div>\n"
            ]
          },
          "metadata": {},
          "execution_count": 3
        }
      ]
    },
    {
      "cell_type": "code",
      "source": [
        "data.info()"
      ],
      "metadata": {
        "colab": {
          "base_uri": "https://localhost:8080/"
        },
        "id": "gDX2Hy8VNJcz",
        "outputId": "25e19771-d927-4071-b36c-06e734aab905"
      },
      "execution_count": null,
      "outputs": [
        {
          "output_type": "stream",
          "name": "stdout",
          "text": [
            "<class 'pandas.core.frame.DataFrame'>\n",
            "RangeIndex: 84548 entries, 0 to 84547\n",
            "Data columns (total 22 columns):\n",
            " #   Column                          Non-Null Count  Dtype \n",
            "---  ------                          --------------  ----- \n",
            " 0   Unnamed: 0                      84548 non-null  int64 \n",
            " 1   BOROUGH                         84548 non-null  int64 \n",
            " 2   NEIGHBORHOOD                    84548 non-null  object\n",
            " 3   BUILDING CLASS CATEGORY         84548 non-null  object\n",
            " 4   TAX CLASS AT PRESENT            84548 non-null  object\n",
            " 5   BLOCK                           84548 non-null  int64 \n",
            " 6   LOT                             84548 non-null  int64 \n",
            " 7   EASE-MENT                       84548 non-null  object\n",
            " 8   BUILDING CLASS AT PRESENT       84548 non-null  object\n",
            " 9   ADDRESS                         84548 non-null  object\n",
            " 10  APARTMENT NUMBER                84548 non-null  object\n",
            " 11  ZIP CODE                        84548 non-null  int64 \n",
            " 12  RESIDENTIAL UNITS               84548 non-null  int64 \n",
            " 13  COMMERCIAL UNITS                84548 non-null  int64 \n",
            " 14  TOTAL UNITS                     84548 non-null  int64 \n",
            " 15  LAND SQUARE FEET                84548 non-null  object\n",
            " 16  GROSS SQUARE FEET               84548 non-null  object\n",
            " 17  YEAR BUILT                      84548 non-null  int64 \n",
            " 18  TAX CLASS AT TIME OF SALE       84548 non-null  int64 \n",
            " 19  BUILDING CLASS AT TIME OF SALE  84548 non-null  object\n",
            " 20  SALE PRICE                      84548 non-null  object\n",
            " 21  SALE DATE                       84548 non-null  object\n",
            "dtypes: int64(10), object(12)\n",
            "memory usage: 14.2+ MB\n"
          ]
        }
      ]
    },
    {
      "cell_type": "code",
      "source": [
        "data['BOROUGH'] = data['BOROUGH'].map({1:'Manhattan', 2:'Bronx', 3: 'Brooklyn', 4:'Queens',5:'Staten Island'})"
      ],
      "metadata": {
        "id": "r46-_SvmXcvp"
      },
      "execution_count": null,
      "outputs": []
    },
    {
      "cell_type": "code",
      "source": [
        "data['sale_year'] = pd.DatetimeIndex(data['SALE DATE']).year\n",
        "data['sale_month'] = pd.DatetimeIndex(data['SALE DATE']).month"
      ],
      "metadata": {
        "id": "3BMATV8XNacL"
      },
      "execution_count": null,
      "outputs": []
    },
    {
      "cell_type": "code",
      "source": [
        "data['SALE DATE'] = pd.to_datetime(data['SALE DATE'], errors='coerce')"
      ],
      "metadata": {
        "id": "wNOUclMabIAw"
      },
      "execution_count": null,
      "outputs": []
    },
    {
      "cell_type": "code",
      "source": [
        "numeric = [\"RESIDENTIAL UNITS\",\"COMMERCIAL UNITS\",\"TOTAL UNITS\", \"LAND SQUARE FEET\" ,\n",
        "           \"GROSS SQUARE FEET\",\"SALE PRICE\" ]\n",
        "for col in numeric:\n",
        "    data[col] = pd.to_numeric(data[col], errors='coerce')"
      ],
      "metadata": {
        "id": "YyMgVBBjbPE1"
      },
      "execution_count": null,
      "outputs": []
    },
    {
      "cell_type": "code",
      "source": [
        "categorical = [\"BOROUGH\",\"NEIGHBORHOOD\",'BUILDING CLASS CATEGORY', 'TAX CLASS AT PRESENT',\n",
        "               'BUILDING CLASS AT PRESENT','ZIP CODE', 'BUILDING CLASS AT TIME OF SALE', 'TAX CLASS AT TIME OF SALE']\n",
        "for col in categorical:\n",
        "    data[col] = data[col].astype(object)"
      ],
      "metadata": {
        "id": "au88FhBWbWA2"
      },
      "execution_count": null,
      "outputs": []
    },
    {
      "cell_type": "code",
      "source": [
        "data.replace(' ',np.nan, inplace=True)"
      ],
      "metadata": {
        "id": "463lZB-lb1xA"
      },
      "execution_count": null,
      "outputs": []
    },
    {
      "cell_type": "code",
      "source": [
        "round(data.isna().sum() /len(data) *100,2)"
      ],
      "metadata": {
        "colab": {
          "base_uri": "https://localhost:8080/"
        },
        "id": "QrCNx7pmcPVN",
        "outputId": "9b0ed6a7-f8eb-434a-f1bf-d4514348e90e"
      },
      "execution_count": null,
      "outputs": [
        {
          "output_type": "execute_result",
          "data": {
            "text/plain": [
              "Unnamed: 0                          0.00\n",
              "BOROUGH                             0.00\n",
              "NEIGHBORHOOD                        0.00\n",
              "BUILDING CLASS CATEGORY             0.00\n",
              "TAX CLASS AT PRESENT                0.87\n",
              "BLOCK                               0.00\n",
              "LOT                                 0.00\n",
              "EASE-MENT                         100.00\n",
              "BUILDING CLASS AT PRESENT           0.87\n",
              "ADDRESS                             0.00\n",
              "APARTMENT NUMBER                   77.47\n",
              "ZIP CODE                            0.00\n",
              "RESIDENTIAL UNITS                   0.00\n",
              "COMMERCIAL UNITS                    0.00\n",
              "TOTAL UNITS                         0.00\n",
              "LAND SQUARE FEET                   31.05\n",
              "GROSS SQUARE FEET                  32.66\n",
              "YEAR BUILT                          0.00\n",
              "TAX CLASS AT TIME OF SALE           0.00\n",
              "BUILDING CLASS AT TIME OF SALE      0.00\n",
              "SALE PRICE                         17.22\n",
              "SALE DATE                           0.00\n",
              "sale_year                           0.00\n",
              "sale_month                          0.00\n",
              "dtype: float64"
            ]
          },
          "metadata": {},
          "execution_count": 28
        }
      ]
    },
    {
      "cell_type": "code",
      "source": [],
      "metadata": {
        "id": "4mBKG0B5Vd69"
      },
      "execution_count": null,
      "outputs": []
    },
    {
      "cell_type": "markdown",
      "source": [
        "filter data ini bertujuan untuk menyesuaikan tahun pembangunan properti"
      ],
      "metadata": {
        "id": "Hf-sz1sqPdPs"
      }
    },
    {
      "cell_type": "markdown",
      "source": [
        "# Measures of Central Tendency"
      ],
      "metadata": {
        "id": "mBZXZIShRjO6"
      }
    },
    {
      "cell_type": "code",
      "source": [
        "X = data['TOTAL UNITS']\n",
        "y = data['YEAR BUILT']"
      ],
      "metadata": {
        "id": "hlPNXZINdx4-"
      },
      "execution_count": null,
      "outputs": []
    },
    {
      "cell_type": "code",
      "source": [],
      "metadata": {
        "id": "HLW76iFIgqdu"
      },
      "execution_count": null,
      "outputs": []
    },
    {
      "cell_type": "code",
      "source": [
        "mean_ = sum(y) / len(y)\n",
        "mean_"
      ],
      "metadata": {
        "colab": {
          "base_uri": "https://localhost:8080/"
        },
        "id": "DZh-cgZ7SG4O",
        "outputId": "1e1b47bd-e627-489a-83ca-7fcc15e47e9f"
      },
      "execution_count": null,
      "outputs": [
        {
          "output_type": "execute_result",
          "data": {
            "text/plain": [
              "1789.322976297488"
            ]
          },
          "metadata": {},
          "execution_count": 46
        }
      ]
    },
    {
      "cell_type": "code",
      "source": [
        "wmean = sum(y[i] * X[i] for i in range (len(X))) / sum(y)\n",
        "print(wmean)"
      ],
      "metadata": {
        "colab": {
          "base_uri": "https://localhost:8080/"
        },
        "id": "DzsQc-dggTbg",
        "outputId": "f615eca1-9813-4cbc-9c33-af3a57764783"
      },
      "execution_count": null,
      "outputs": [
        {
          "output_type": "stream",
          "name": "stdout",
          "text": [
            "2.3891579143841417\n"
          ]
        }
      ]
    },
    {
      "cell_type": "markdown",
      "source": [
        "menentukan nilai mean data total unit dengan year\n",
        "built"
      ],
      "metadata": {
        "id": "LD1jADf7hlfp"
      }
    },
    {
      "cell_type": "markdown",
      "source": [
        "# Measure of Central Tendency: Median"
      ],
      "metadata": {
        "id": "aISTsqNood9s"
      }
    },
    {
      "cell_type": "code",
      "source": [],
      "metadata": {
        "id": "X0YpC5WzoieS"
      },
      "execution_count": null,
      "outputs": []
    },
    {
      "cell_type": "code",
      "source": [
        "X"
      ],
      "metadata": {
        "colab": {
          "base_uri": "https://localhost:8080/"
        },
        "id": "8SAitH3toIa7",
        "outputId": "459e6e5f-e79c-4d16-dd1e-57f2c6e113c7"
      },
      "execution_count": 58,
      "outputs": [
        {
          "output_type": "execute_result",
          "data": {
            "text/plain": [
              "0         5\n",
              "1        31\n",
              "2        17\n",
              "3        10\n",
              "4         6\n",
              "         ..\n",
              "84543     2\n",
              "84544     2\n",
              "84545     2\n",
              "84546     7\n",
              "84547     1\n",
              "Name: TOTAL UNITS, Length: 84548, dtype: int64"
            ]
          },
          "metadata": {},
          "execution_count": 58
        }
      ]
    },
    {
      "cell_type": "code",
      "source": [
        "statistics.median_low(X[:1])"
      ],
      "metadata": {
        "colab": {
          "base_uri": "https://localhost:8080/"
        },
        "id": "1AThxouwoM3e",
        "outputId": "8107225a-edf2-4b66-9434-da831705dcc6"
      },
      "execution_count": 61,
      "outputs": [
        {
          "output_type": "execute_result",
          "data": {
            "text/plain": [
              "5"
            ]
          },
          "metadata": {},
          "execution_count": 61
        }
      ]
    },
    {
      "cell_type": "code",
      "source": [
        "median_ = np.median(y)\n",
        "print(median_)"
      ],
      "metadata": {
        "colab": {
          "base_uri": "https://localhost:8080/"
        },
        "id": "EX0OOA42pCPf",
        "outputId": "68f7bae0-9cea-4dbf-d755-483801784738"
      },
      "execution_count": 62,
      "outputs": [
        {
          "output_type": "stream",
          "name": "stdout",
          "text": [
            "1940.0\n"
          ]
        }
      ]
    },
    {
      "cell_type": "markdown",
      "source": [
        "median untuk melihat nilai awal pada data"
      ],
      "metadata": {
        "id": "Sbgddky6otFg"
      }
    },
    {
      "cell_type": "markdown",
      "source": [
        "#Measure of Central Tendency: Modus"
      ],
      "metadata": {
        "id": "zKaFoA-1ozh1"
      }
    },
    {
      "cell_type": "code",
      "source": [
        "mode_ = statistics.mode(X)\n",
        "mode_"
      ],
      "metadata": {
        "colab": {
          "base_uri": "https://localhost:8080/"
        },
        "id": "w18FcoeOpOhV",
        "outputId": "231c1771-765a-41b5-85e3-e2a7d257c464"
      },
      "execution_count": 65,
      "outputs": [
        {
          "output_type": "execute_result",
          "data": {
            "text/plain": [
              "1"
            ]
          },
          "metadata": {},
          "execution_count": 65
        }
      ]
    },
    {
      "cell_type": "markdown",
      "source": [
        "nilai dalam kumpulan data median yang sering muncul"
      ],
      "metadata": {
        "id": "rki0JtCQqDRd"
      }
    },
    {
      "cell_type": "markdown",
      "source": [
        "# Measure of Spread: Range"
      ],
      "metadata": {
        "id": "cjVFRknSrayV"
      }
    },
    {
      "cell_type": "code",
      "source": [
        "np.ptp(y)"
      ],
      "metadata": {
        "colab": {
          "base_uri": "https://localhost:8080/"
        },
        "id": "ToOTqwfIrbTp",
        "outputId": "510add9f-48a9-4c60-e535-62cf432712b3"
      },
      "execution_count": 66,
      "outputs": [
        {
          "output_type": "execute_result",
          "data": {
            "text/plain": [
              "2017"
            ]
          },
          "metadata": {},
          "execution_count": 66
        }
      ]
    },
    {
      "cell_type": "code",
      "source": [
        "np.ptp(X)"
      ],
      "metadata": {
        "colab": {
          "base_uri": "https://localhost:8080/"
        },
        "id": "E9aWdq0Frg1L",
        "outputId": "4151164d-c4e7-4a32-d6a1-197795010f1b"
      },
      "execution_count": 68,
      "outputs": [
        {
          "output_type": "execute_result",
          "data": {
            "text/plain": [
              "2261"
            ]
          },
          "metadata": {},
          "execution_count": 68
        }
      ]
    },
    {
      "cell_type": "markdown",
      "source": [
        "# Measure of Spread: Variance"
      ],
      "metadata": {
        "id": "1DcwnOGcr2Zs"
      }
    },
    {
      "cell_type": "code",
      "source": [
        "n = len(X)\n",
        "\n",
        "mean_ = sum(X) / n\n",
        "\n",
        "var_ = sum((item - mean_)**2 for item in X) / (n - 1)\n",
        "var_"
      ],
      "metadata": {
        "colab": {
          "base_uri": "https://localhost:8080/"
        },
        "id": "UDjmMoBCsCrJ",
        "outputId": "e1c7a6ed-027c-4b88-f9c5-58d216aeab0b"
      },
      "execution_count": 69,
      "outputs": [
        {
          "output_type": "execute_result",
          "data": {
            "text/plain": [
              "359.95896003024995"
            ]
          },
          "metadata": {},
          "execution_count": 69
        }
      ]
    },
    {
      "cell_type": "markdown",
      "source": [
        "codingan di atas unutk melakukan mengukur penyebaran data"
      ],
      "metadata": {
        "id": "qIlkHfB3sQyY"
      }
    },
    {
      "cell_type": "markdown",
      "source": [
        "# Measure of Spread: Standard Deviation"
      ],
      "metadata": {
        "id": "A4t-tZh-sQ6q"
      }
    },
    {
      "cell_type": "code",
      "source": [
        "std_ = statistics.stdev(X)\n",
        "std_"
      ],
      "metadata": {
        "colab": {
          "base_uri": "https://localhost:8080/"
        },
        "id": "fCBoeoP-sg6O",
        "outputId": "8d43f9f6-7b8f-45bd-a3a0-53b0601b13e2"
      },
      "execution_count": 71,
      "outputs": [
        {
          "output_type": "execute_result",
          "data": {
            "text/plain": [
              "18.97258443202673"
            ]
          },
          "metadata": {},
          "execution_count": 71
        }
      ]
    },
    {
      "cell_type": "markdown",
      "source": [
        "standard deviation juga menghitung penyebaran data dengan cara lain"
      ],
      "metadata": {
        "id": "HprNi77fsxgr"
      }
    },
    {
      "cell_type": "markdown",
      "source": [
        "# Probility Distribution"
      ],
      "metadata": {
        "id": "V6JAoKC0tPms"
      }
    },
    {
      "cell_type": "code",
      "source": [
        "import matplotlib.pyplot as plt\n",
        "\n",
        "# Pisahkan data berdasarkan kategori bangunan\n",
        "categories = data['BUILDING CLASS CATEGORY'].unique()\n",
        "\n",
        "# Siapkan data untuk distribusi probabilitas\n",
        "category_data = [data[data['BUILDING CLASS CATEGORY'] == category]['TOTAL UNITS'] for category in categories]\n",
        "\n",
        "# Hitung jumlah total unit untuk setiap kategori\n",
        "total_units_per_category = [category.sum() for category in category_data]\n",
        "\n",
        "# Hitung probabilitas untuk setiap kategori\n",
        "total_units_sum = sum(total_units_per_category)\n",
        "probability_distribution = [units / total_units_sum for units in total_units_per_category]\n",
        "\n",
        "# Plot distribusi probabilitas\n",
        "plt.figure(figsize=(10, 6))\n",
        "plt.bar(categories, probability_distribution, color='skyblue')\n",
        "plt.xticks(rotation=90)\n",
        "plt.xlabel('Kategori Bangunan')\n",
        "plt.ylabel('Probabilitas')\n",
        "plt.title('Distribusi Probabilitas Jumlah Unit yang Dijual berdasarkan Kategori Bangunan')\n",
        "plt.show()\n"
      ],
      "metadata": {
        "colab": {
          "base_uri": "https://localhost:8080/",
          "height": 910
        },
        "id": "NayX-9tAtTzR",
        "outputId": "32a24b7c-8735-4eeb-b425-03d1bd778a18"
      },
      "execution_count": 72,
      "outputs": [
        {
          "output_type": "display_data",
          "data": {
            "text/plain": [
              "<Figure size 1000x600 with 1 Axes>"
            ],
            "image/png": "[encoded data removed]"
          },
          "metadata": {}
        }
      ]
    },
    {
      "cell_type": "markdown",
      "source": [
        "pertama kita memisahkan ketegori bangunan kemudian melakukan menghitung total unit untuk setiap kategori dan probilitasnya"
      ],
      "metadata": {
        "id": "WoKnnJCLtcaZ"
      }
    },
    {
      "cell_type": "markdown",
      "source": [
        "# confidence interval"
      ],
      "metadata": {
        "id": "RshlqHlAts8y"
      }
    },
    {
      "cell_type": "code",
      "source": [
        "# import\n",
        "from scipy.stats import norm"
      ],
      "metadata": {
        "id": "qtH8_2i_uHbm"
      },
      "execution_count": 74,
      "outputs": []
    },
    {
      "cell_type": "code",
      "source": [
        "alpha = 0.5\n",
        "\n",
        "std_dev = np.std(probability_distribution)\n",
        "mean = np.mean(probability_distribution)\n",
        "\n",
        "z_critical = norm.ppf(1 - alpha/2)\n",
        "margin_of_error = z_critical * (std_dev / np.sqrt(len(probability_distribution)))\n",
        "\n",
        "lower_bound = mean - margin_of_error\n",
        "upper_bound = mean + margin_of_error\n",
        "print(f'Confidence interval untuk probabilitas adalah ({lower_bound:.4f}, {upper_bound:.4f})')"
      ],
      "metadata": {
        "colab": {
          "base_uri": "https://localhost:8080/"
        },
        "id": "IWKcDTtJuNkR",
        "outputId": "d3f177d1-0962-4244-cb40-80974141bdf0"
      },
      "execution_count": 75,
      "outputs": [
        {
          "output_type": "stream",
          "name": "stdout",
          "text": [
            "Confidence interval untuk probabilitas adalah (0.0167, 0.0259)\n"
          ]
        }
      ]
    },
    {
      "cell_type": "markdown",
      "source": [
        "kodingan di atas untuk mencari confidence interval untuk probilitas"
      ],
      "metadata": {
        "id": "wNDkXg6Kupm1"
      }
    },
    {
      "cell_type": "markdown",
      "source": [
        "# Hypothesis Testing"
      ],
      "metadata": {
        "id": "cbhIfAsfu-Lg"
      }
    },
    {
      "cell_type": "code",
      "source": [
        "categories = data['BUILDING CLASS CATEGORY'].unique()\n",
        "category_data = [data[data['BUILDING CLASS CATEGORY'] == category]['TOTAL UNITS'] for category in categories]\n",
        "alpha = 0.05\n",
        "\n",
        "statistic, p_value = f_oneway(*category_data)\n",
        "if p_value < alpha:\n",
        "    print(\"Terdapat perbedaan signifikan dalam jumlah total unit antara kategori kelas bangunan.\")\n",
        "else:\n",
        "    print(\"Tidak terdapat perbedaan signifikan dalam jumlah total unit antara kategori kelas bangunan.\")"
      ],
      "metadata": {
        "colab": {
          "base_uri": "https://localhost:8080/"
        },
        "id": "t0q3oLXxypas",
        "outputId": "263ab61f-846e-4697-d88d-5facceb8763e"
      },
      "execution_count": 87,
      "outputs": [
        {
          "output_type": "stream",
          "name": "stdout",
          "text": [
            "Terdapat perbedaan signifikan dalam jumlah total unit antara kategori kelas bangunan.\n"
          ]
        }
      ]
    },
    {
      "cell_type": "markdown",
      "source": [
        "kodingan di atas untuk memeriksa apakah ada perbedaan signifikasi dari building class category dengan total unit"
      ],
      "metadata": {
        "id": "th-5DCw4zF1X"
      }
    },
    {
      "cell_type": "code",
      "source": [],
      "metadata": {
        "id": "S2J109WCzis_"
      },
      "execution_count": null,
      "outputs": []
    }
  ]
}